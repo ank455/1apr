{
 "cells": [
  {
   "cell_type": "code",
   "execution_count": null,
   "id": "11fef8cc-3609-416a-8d97-0521335b77ed",
   "metadata": {},
   "outputs": [],
   "source": [
    "#Ans 1\n",
    "Linear Regression is used to handle regression problems whereas Logistic regression is used to handle the classification problems. Linear regression provides a continuous output but Logistic regression provides discreet output.\n",
    "\n",
    "example, To predict whether an email is spam (1) or (0) Whether the tumor is malignant (1) or not (0)"
   ]
  },
  {
   "cell_type": "code",
   "execution_count": null,
   "id": "6d6266d4-16e6-43f7-aa14-fef661911210",
   "metadata": {},
   "outputs": [],
   "source": [
    "#Ans 2\n",
    "\n",
    " Cost function for Logistic Regression,\n",
    "\n",
    "h_{\\Theta}(x) = g(\\Theta^{T}x) \n",
    "\n",
    "To optimize the cost function, various optimization algorithms can be used, with the most common one being gradient descent. Gradient descent iteratively updates the model parameters "
   ]
  },
  {
   "cell_type": "code",
   "execution_count": null,
   "id": "db1e5be6-c5ef-4303-befb-8c554e21fe77",
   "metadata": {},
   "outputs": [],
   "source": [
    "#Ans 3\n",
    "Regularization is any modification we make to a learning algorithm that is intended to reduce its generalization error but not its training error.\n",
    "\n",
    "Regularization helps prevent overfitting by adding a bias towards simpler models with smaller parameter values"
   ]
  },
  {
   "cell_type": "code",
   "execution_count": null,
   "id": "7c1c0937-adb2-4c08-b38d-233af1706a8a",
   "metadata": {},
   "outputs": [],
   "source": [
    "#Ans 4\n",
    "\n",
    "ROC curves in logistic regression are used for determining the best cutoff value for predicting whether a new observation is a \"failure\" (0) or a \"success\" (1)."
   ]
  },
  {
   "cell_type": "code",
   "execution_count": null,
   "id": "8e221852-2f11-46b9-b0aa-2e817a8d3806",
   "metadata": {},
   "outputs": [],
   "source": [
    "#Ans 5\n",
    "some common techniques for feature selection in logistic regression:\n",
    "(1)Univariate Selection\n",
    "(2)Recursive Feature Elimination\n",
    "(3)L1 Regularization \n",
    "(4)Information Gain\n",
    "(5)Feature Importance from Tree-based Models\n",
    "(6)Correlation Matrix\n",
    "\n",
    "These feature selection techniques help improve the models performance in several ways\n",
    "(1)Reduced overfitting\n",
    "(2)Improved Interpretability\n",
    "(3)Reduced Computational Complexity\n",
    "(4)Enhanced Generalization"
   ]
  },
  {
   "cell_type": "code",
   "execution_count": null,
   "id": "be23ef54-cc85-4d80-9e8c-313e5f03690c",
   "metadata": {},
   "outputs": [],
   "source": [
    "#Ans 6\n",
    "Handling imbalanced datasets in logistic regression is crucial to ensure that the model adequately captures the patterns and provides accurate predictions for the minority class. Here are some strategies for dealing with class imbalance in logistic regression:\n",
    "\n",
    "(1) Resampling Techniques\n",
    "(2) Class Weighting\n",
    "(3) Threshold Adjustment\n",
    "(4) Ensemble Methods\n",
    "(5) Cost-Sensitive Learning\n",
    "(6) Data Augmentation\n",
    "(7) Anomaly Detection"
   ]
  },
  {
   "cell_type": "code",
   "execution_count": null,
   "id": "8c41a4a9-c539-49c4-87b3-b6d0dff4ddaf",
   "metadata": {},
   "outputs": [],
   "source": [
    "#Ans 7\n",
    "\n",
    "some common ones and potential approaches to address them:\n",
    "\n",
    "(1) Multicollinearity among independent variables\n",
    "(2) Outliers in data\n",
    "(3) Insufficient sample size\n",
    "(4) Missing Data\n",
    "(5) Non-linearity in the relationship"
   ]
  }
 ],
 "metadata": {
  "kernelspec": {
   "display_name": "Python 3 (ipykernel)",
   "language": "python",
   "name": "python3"
  },
  "language_info": {
   "codemirror_mode": {
    "name": "ipython",
    "version": 3
   },
   "file_extension": ".py",
   "mimetype": "text/x-python",
   "name": "python",
   "nbconvert_exporter": "python",
   "pygments_lexer": "ipython3",
   "version": "3.10.8"
  }
 },
 "nbformat": 4,
 "nbformat_minor": 5
}
